{
 "cells": [
  {
   "cell_type": "code",
   "execution_count": 15,
   "id": "51c7e8f4",
   "metadata": {},
   "outputs": [
    {
     "name": "stdout",
     "output_type": "stream",
     "text": [
      "['hello', 'i', 'am', 'prtk']\n"
     ]
    }
   ],
   "source": [
    "import nltk\n",
    "from nltk.tokenize import word_tokenize\n",
    "data = \"hello i am prtk\"\n",
    "out = word_tokenize(data)\n",
    "print(out)"
   ]
  },
  {
   "cell_type": "code",
   "execution_count": 4,
   "id": "d1354790",
   "metadata": {},
   "outputs": [
    {
     "name": "stdout",
     "output_type": "stream",
     "text": [
      "['hello there i am prtk.', 'i want to become data analyst.', 'and to make the huge diffrence in this field.']\n"
     ]
    }
   ],
   "source": [
    "from nltk.tokenize import sent_tokenize\n",
    "data = \"hello there i am prtk. i want to become data analyst. and to make the huge diffrence in this field.\"\n",
    "out = sent_tokenize(data)\n",
    "print(out)"
   ]
  },
  {
   "cell_type": "code",
   "execution_count": 6,
   "id": "6227ae02",
   "metadata": {},
   "outputs": [
    {
     "name": "stdout",
     "output_type": "stream",
     "text": [
      "['hello', 'prtk', '.', 'want', 'become', 'data', 'analyst', '.', 'make', 'huge', 'diffrence', 'field', '.']\n"
     ]
    }
   ],
   "source": [
    "from nltk.corpus import stopwords\n",
    "from nltk.tokenize import word_tokenize\n",
    "\n",
    "to_be_removed = set(stopwords.words(\"english\"))\n",
    "\n",
    "data = \"hello there i am prtk. i want to become data analyst. and to make the huge diffrence in this field.\"\n",
    "token = word_tokenize(data)\n",
    "\n",
    "out = [word for word in token if word not in to_be_removed]\n",
    "print(out)"
   ]
  },
  {
   "cell_type": "code",
   "execution_count": 12,
   "id": "a334f1f0",
   "metadata": {},
   "outputs": [
    {
     "name": "stdout",
     "output_type": "stream",
     "text": [
      "['we', 'are', 'go', 'to', 'pune', 'and', 'john', 'went', 'to', 'london', 'while', 'rina', 'alway', 'goe', 'to', 'usa', '.']\n"
     ]
    }
   ],
   "source": [
    "from nltk.stem import PorterStemmer\n",
    "from nltk.tokenize import word_tokenize\n",
    "\n",
    "stemmer = PorterStemmer()\n",
    "\n",
    "data = \"we are going to pune and john went to London while rina always goes to USA.\"\n",
    "token = word_tokenize(data)\n",
    "\n",
    "out=[stemmer.stem(i) for i in token]\n",
    "print(out)"
   ]
  },
  {
   "cell_type": "code",
   "execution_count": 9,
   "id": "f5d17c53",
   "metadata": {},
   "outputs": [
    {
     "name": "stdout",
     "output_type": "stream",
     "text": [
      "['Cake', 'is', 'a', 'form', 'of', 'sweet', 'food', 'made', 'from', 'flour', ',', 'sugar', ',', 'and', 'other', 'ingredient', ',', 'that', 'is', 'usually', 'baked', '.']\n"
     ]
    }
   ],
   "source": [
    "from nltk.stem import WordNetLemmatizer\n",
    "from nltk.tokenize import word_tokenize\n",
    "\n",
    "lemmatizer = WordNetLemmatizer()\n",
    "\n",
    "data = \"Cake is a form of sweet food made from flour, sugar, and other ingredients, that is usually baked.\"\n",
    "token = word_tokenize(data)\n",
    "\n",
    "out = [lemmatizer.lemmatize(i) for i in token]\n",
    "print(out)"
   ]
  }
 ],
 "metadata": {
  "kernelspec": {
   "display_name": "Python 3 (ipykernel)",
   "language": "python",
   "name": "python3"
  },
  "language_info": {
   "codemirror_mode": {
    "name": "ipython",
    "version": 3
   },
   "file_extension": ".py",
   "mimetype": "text/x-python",
   "name": "python",
   "nbconvert_exporter": "python",
   "pygments_lexer": "ipython3",
   "version": "3.10.9"
  }
 },
 "nbformat": 4,
 "nbformat_minor": 5
}
